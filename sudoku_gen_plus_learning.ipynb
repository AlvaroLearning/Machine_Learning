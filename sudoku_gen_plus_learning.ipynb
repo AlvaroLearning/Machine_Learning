{
 "cells": [
  {
   "cell_type": "markdown",
   "metadata": {},
   "source": [
    "# SUDOKU GENERATION PLUS MACHINE LEARNING TEST\n",
    "\n"
   ]
  },
  {
   "cell_type": "markdown",
   "metadata": {},
   "source": [
    "In this notebook, my aim is to use Machine Learning algorithms to distinguish if a given matrix of numbers is, or not, a [sudoku](https://en.wikipedia.org/wiki/Sudoku). For doing that, I divide the notebook into two sections:\n",
    "\n",
    "1. The first section is devoted to the creation of a database of sudokus and non-sudokus with their respective labels for future Machine Learning algorithms.\n",
    "\n",
    "2. In the second section, I will use some Machine Learning algorithms for trying to predict the \"sudokuness\" of a table of numbers.\n",
    " 1. Firstly with a [Decision tree](https://en.wikipedia.org/wiki/Decision_tree_learning), and later, [Random forest](https://en.wikipedia.org/wiki/Random_forest) classifiers. They seem natural to me in the process of creating rules for classification of sudokus.\n",
    " 2. Secondly, I use an [MLP neural network](https://en.wikipedia.org/wiki/Multilayer_perceptron) with one hidden layer. I believe this should be enough for my purpose.\n",
    "\n",
    "Sudokus are not the typical example when someone wants to use Machine Learning models (as far as I know) but they have special characteristics that made me think this could be a cool example.\n",
    "\n",
    "1. There are deterministic rules to distinguish a sudoku from a non-sudoku. Could a Machine Learning algorithm learn the rules we are all thinking or would find some other ways?\n",
    "\n",
    "2. Sudokus has a nice structure that make them invariant whenever swapping elements. For example, if in a sudoku one permutes all 1's by 2' and vice-versa, one finds another sudoku. Furthermore, one could imagine (as it was my case before checking my results) that whenever one has a sudoku, for being \"fair\" with the model, one should feed it with all possible permutations so that it can \"understand\" that the actual numbers appearing are not important, but the structure behind (a sudoku could be made by nine different symbols without any mathematical intrinsic meaning). The total number of new sudokus one obtain permuting elements from just one sudoku is $9! = 362.880$ . Which is quite a big number for just one \"real sudoku\". How would a Machine Learning model distinguish between sudoku and non-sudoku if one does not use billions of training examples? \n",
    " \n"
   ]
  },
  {
   "cell_type": "markdown",
   "metadata": {},
   "source": [
    "## 1. Creating Sudoku and non-Sudoku database"
   ]
  },
  {
   "cell_type": "code",
   "execution_count": 1,
   "metadata": {},
   "outputs": [],
   "source": [
    "# I will mainly work with numpy arrays and some lists from python, so I have to import the library.\n",
    "\n",
    "import numpy as np"
   ]
  },
  {
   "cell_type": "markdown",
   "metadata": {},
   "source": [
    "#### I will define all functions at the begining"
   ]
  },
  {
   "cell_type": "code",
   "execution_count": 2,
   "metadata": {},
   "outputs": [],
   "source": [
    "# This function checks wether a numpy array is a sudoku or not\n",
    "\n",
    "\n",
    "def sudo_or_not(sudo):    \n",
    "    if len(np.unique(sudo.flatten())) != 9:  #check whether there are nine numbers\n",
    "        print(\"It is not a sudoku\\nThere are not 9 different numbers\")\n",
    "        return\n",
    "    for numb in np.unique(sudo.flatten()):    #check whether these nine numbers are from 1 to 9\n",
    "        if not (numb in [1,2,3,4,5,6,7,8,9]):\n",
    "            print(\"It is not a sudoku\\nThe numbers should be between 1 and 9 (inclusive)\")\n",
    "            return\n",
    "    for i in [0,3,6]:     #here I check not repeated numbers for the 9 inner squares 3x3\n",
    "        for j in [0,3,6]:\n",
    "            if len(np.unique(sudo[0+i:3+i,0+j:3+j].flatten())) < 9:\n",
    "                print(\"It is not a sudoku\\nThe inner square \",(i,j),\" has some repeated pattern\")\n",
    "                return\n",
    "    for hor in range(9):   #here I check for the horizontal lines (rows)\n",
    "        if len(np.unique(sudo[hor,:])) < 9:\n",
    "            print(\"It is not a sudoku\\nThe horizontal line with index number \",hor,\" has some repeated pattern.\")\n",
    "            return\n",
    "    for vert in range(9):  #here I check for the vertical lines (columns)\n",
    "        if len(np.unique(sudo[:,vert])) < 9:\n",
    "            print(\"It is not a sudoku\\nThe vertical line with index number \",ver,\" has some repeated pattern.\")\n",
    "            return    \n",
    "    print(\"It is a sudoku!\")\n",
    "    return         "
   ]
  },
  {
   "cell_type": "code",
   "execution_count": 3,
   "metadata": {},
   "outputs": [],
   "source": [
    "# Similar to the function given above but without print and returning numbers. The reason is that if I want to use it \n",
    "# with large amounts of data is not useful that the info is given as stdout in the screen.\n",
    "\n",
    "\n",
    "def sudo_or_not_numeric(sudo):    \n",
    "    if len(np.unique(sudo.flatten())) != 9:  #check whether there are nine numbers\n",
    "        \n",
    "        return 0\n",
    "    for numb in np.unique(sudo.flatten()):    #check whether these nine numbers are from 1 to 9\n",
    "        if not (numb in [1,2,3,4,5,6,7,8,9]):\n",
    "            \n",
    "            return 0\n",
    "    for i in [0,3,6]:     #here I check not repeated numbers for the 9 inner squares 3x3\n",
    "        for j in [0,3,6]:\n",
    "            if len(np.unique(sudo[0+i:3+i,0+j:3+j].flatten())) < 9:\n",
    "                \n",
    "                return 0\n",
    "    for hor in range(9):   #here I check for the horizontal lines\n",
    "        if len(np.unique(sudo[hor,:])) < 9:\n",
    "            \n",
    "            return 0\n",
    "    for vert in range(9):  #here I check for the vertical lines\n",
    "        if len(np.unique(sudo[:,vert])) < 9:\n",
    "            \n",
    "            return 0\n",
    "    \n",
    "    return 1        "
   ]
  },
  {
   "cell_type": "code",
   "execution_count": 4,
   "metadata": {},
   "outputs": [],
   "source": [
    "# Swapping functions both for rows and columns that will be very useful for generating sudokus\n",
    "\n",
    "def swap_row(sudo, i, j): # Given a 2D np.array it permutes row i and row j \n",
    "    sudo[[i,j]] = sudo[[j,i]]\n",
    "    return \n",
    "def swap_column(sudo, i, j):   # Given a 2D np.array it permutes column i and row j \n",
    "    sudo[:,[i,j]] = sudo[:,[j,i]]\n",
    "    return "
   ]
  },
  {
   "cell_type": "code",
   "execution_count": 5,
   "metadata": {},
   "outputs": [],
   "source": [
    "# Count how many numbers \"numb\" there are in each inner square in \"sudo\". For a sudoku it should be a 3x3 array with\n",
    "# all entries equal 1. This is very important for the optimization problem that allow me to create sudokus\n",
    "\n",
    "def inner_numb(sudo, numb):\n",
    "    in_sq_mean = np.zeros((3,3))\n",
    "    for i in range(3):    \n",
    "        for j in range(3):\n",
    "            in_sq_mean[i,j] = sum( sudo[0+3*i:3+3*i,0+3*j:3+3*j].flatten() == numb )\n",
    "    return in_sq_mean"
   ]
  },
  {
   "cell_type": "code",
   "execution_count": 6,
   "metadata": {},
   "outputs": [],
   "source": [
    "#Sudoku generator!\n",
    "#First step, create seed, second step, shuffle (so that I obtain different ones), third step Make the sudoku\n",
    "\n",
    "\n",
    "def sudoku_gen():\n",
    "    \n",
    "    # Creating the seed, from it we will be able to be all our sudokus. The interesting property about the seed is that  \n",
    "    # it almost fulfil the conditions for sudoku. The only property that lacks is that it has repeated numbers inside the \n",
    "    # inner squares. Good news, if we permute columns or rows all the other properties are still satisfied and we can \n",
    "    # eventually find sudokus!\n",
    "    \n",
    "    list_seed = []\n",
    "    for i in range(1,10):\n",
    "        row_list = []\n",
    "        for j in range(9):\n",
    "            if i+j <= 9:\n",
    "                row_list.append(j+i)\n",
    "            else:\n",
    "                row_list.append((i+j) % 9)\n",
    "        list_seed.append(row_list)    \n",
    "    new_seed = np.array(list_seed)\n",
    "    \n",
    "    # Shuffling the seed. This is just random shuffling for obtaining a different sudoku each time we run the sudoku\n",
    "    # generator.\n",
    "    \n",
    "    for i in range(50):\n",
    "        if np.random.randint(2) == 0:\n",
    "            swap_column(new_seed, np.random.randint(9),np.random.randint(9))\n",
    "        else:\n",
    "            swap_row(new_seed, np.random.randint(9),np.random.randint(9))\n",
    "            \n",
    "    # Generating the sudoku. Given the shuffled seed, we intelligently shuffle until finding sudoku. \n",
    "    # This is done following a optimization algorithm. I can compute a number that will tell me how \"far\" is my table \n",
    "    # from being a sudoku. Then I choose the permutation that minimize the most this number until it is zero that is \n",
    "    # the case of sudokus!\n",
    "    \n",
    "    cond = 100\n",
    "    count = 0\n",
    "    while cond != 0:\n",
    "        count += 1\n",
    "        if count > 10:\n",
    "            return sudoku_gen() # If I have done more than 10 permutations I restart, just in case!\n",
    "        for r_c in range(2):\n",
    "            for l in range(9):\n",
    "                for k in range(9):\n",
    "                    if r_c == 0:\n",
    "                        swap_column(new_seed, l, k)\n",
    "                    else:\n",
    "                        swap_row(new_seed,l ,k)\n",
    "                    new_cond = sum([np.var(inner_numb(new_seed,i)) for i in range(9)])\n",
    "                    if new_cond < cond:\n",
    "                        my_rc = r_c\n",
    "                        my_l = l\n",
    "                        my_k = k\n",
    "                        cond = new_cond\n",
    "                    if r_c == 0:\n",
    "                        swap_column(new_seed, l, k)\n",
    "                    else:\n",
    "                        swap_row(new_seed,l ,k)\n",
    "        if my_rc == 0:\n",
    "            swap_column(new_seed, my_l, my_k)\n",
    "        else:\n",
    "            swap_row(new_seed,my_l ,my_k) \n",
    "        \n",
    "    return new_seed             "
   ]
  },
  {
   "cell_type": "code",
   "execution_count": 7,
   "metadata": {},
   "outputs": [],
   "source": [
    "# Non-Sudoku generator! \n",
    "# First step, create seed, second step, shuffle (so that I obtain different ones). I need non-sudokus for having a good \n",
    "# model. If not, everything will \"be\" a sudoku!\n",
    "\n",
    "\n",
    "def rand_nosud_gen():\n",
    "    \n",
    "    #Creating the seed\n",
    "    \n",
    "    list_seed = []\n",
    "    for i in range(1,10):\n",
    "        row_list = []\n",
    "        for j in range(9):\n",
    "            if i+j <= 9:\n",
    "                row_list.append(j+i)\n",
    "            else:\n",
    "                row_list.append((i+j) % 9)\n",
    "        list_seed.append(row_list)    \n",
    "    new_seed = np.array(list_seed)\n",
    "    \n",
    "    #Shuffling the seed\n",
    "    \n",
    "    for i in range(50):\n",
    "        np.random.shuffle(new_seed[np.random.randint(9)])\n",
    "        np.random.shuffle(new_seed[:,np.random.randint(9)])\n",
    "        if np.random.randint(2) == 0:\n",
    "            swap_column(new_seed, np.random.randint(9),np.random.randint(9))\n",
    "        else:\n",
    "            swap_row(new_seed, np.random.randint(9),np.random.randint(9))\n",
    "        \n",
    "    return new_seed             "
   ]
  },
  {
   "cell_type": "code",
   "execution_count": 8,
   "metadata": {},
   "outputs": [],
   "source": [
    "# This function checks, given a list of 2D arrays, how many of them are equal as I do not want\n",
    "# to have repeated data in features, neither sudoku or non-sudoku.\n",
    "\n",
    "def equal_check(a_list, destructor = False):\n",
    "    new_list = []\n",
    "    deleting = []\n",
    "    for element in a_list:\n",
    "        my_string =\"\"\n",
    "        for inner in list(element.flatten()):\n",
    "            my_string += str(inner)[0]\n",
    "        new_list.append(int(my_string))\n",
    "    if len(set(new_list)) == len(new_list):\n",
    "        print(\"no problem!\")\n",
    "    else:\n",
    "        print(len(new_list)-len(set(new_list)), \"conflicting cases.\")\n",
    "        if destructor:\n",
    "            for i in range(len(new_list)):\n",
    "                for j in range(len(new_list)):\n",
    "                    if i < j:\n",
    "                        if new_list[i] == new_list[j]:\n",
    "                            print(\"Elements \", i, \" and \",j, \" are equal.\")\n",
    "                            if destructor:\n",
    "                                deleting.append(j)\n",
    "                            \n",
    "    if destructor:\n",
    "        return deleting\n",
    "    else:\n",
    "        return       "
   ]
  },
  {
   "cell_type": "code",
   "execution_count": 9,
   "metadata": {},
   "outputs": [
    {
     "name": "stdout",
     "output_type": "stream",
     "text": [
      "[[9 9 5 7 9 8 6 9 5]\n",
      " [6 6 8 2 2 8 1 2 3]\n",
      " [2 2 2 7 8 4 9 6 7]\n",
      " [3 1 2 3 8 3 5 1 1]\n",
      " [1 4 5 1 1 2 3 4 7]\n",
      " [4 6 7 9 8 5 5 9 5]\n",
      " [5 3 4 4 4 7 4 8 1]\n",
      " [3 8 6 7 9 4 5 8 1]\n",
      " [6 7 3 7 6 6 3 2 9]]\n"
     ]
    }
   ],
   "source": [
    "# I create a random non-sudoku\n",
    "\n",
    "random_no_sud = rand_nosud_gen()\n",
    "print(random_no_sud)"
   ]
  },
  {
   "cell_type": "code",
   "execution_count": 10,
   "metadata": {},
   "outputs": [
    {
     "name": "stdout",
     "output_type": "stream",
     "text": [
      "It is not a sudoku\n",
      "The inner square  (0, 0)  has some repeated pattern\n"
     ]
    }
   ],
   "source": [
    "# If I check if it is sudoku or not, I should obtain that it is not\n",
    "\n",
    "sudo_or_not(random_no_sud)"
   ]
  },
  {
   "cell_type": "code",
   "execution_count": 11,
   "metadata": {},
   "outputs": [
    {
     "name": "stdout",
     "output_type": "stream",
     "text": [
      "[[7 3 5 6 1 4 8 9 2]\n",
      " [8 4 2 9 7 3 5 6 1]\n",
      " [9 6 1 2 8 5 3 7 4]\n",
      " [2 8 6 3 4 9 1 5 7]\n",
      " [4 1 3 8 5 7 9 2 6]\n",
      " [5 7 9 1 2 6 4 3 8]\n",
      " [1 5 7 4 9 2 6 8 3]\n",
      " [6 9 4 7 3 8 2 1 5]\n",
      " [3 2 8 5 6 1 7 4 9]]\n"
     ]
    }
   ],
   "source": [
    "# I just copy a sudoku from the internet and check that my sudoku function confirm that\n",
    "\n",
    "one_sud = np.array([[7,3,5,6,1,4,8,9,2],[8,4,2,9,7,3,5,6,1],[9,6,1,2,8,5,3,7,4],[2,8,6,3,4,9,1,5,7],[4,1,3,8,5,7,9,2,6],[5,7,9,1,2,6,4,3,8],[1,5,7,4,9,2,6,8,3],[6,9,4,7,3,8,2,1,5],[3,2,8,5,6,1,7,4,9]])\n",
    "\n",
    "print(one_sud)"
   ]
  },
  {
   "cell_type": "code",
   "execution_count": 12,
   "metadata": {},
   "outputs": [
    {
     "name": "stdout",
     "output_type": "stream",
     "text": [
      "It is a sudoku!\n"
     ]
    }
   ],
   "source": [
    "sudo_or_not(one_sud)"
   ]
  },
  {
   "cell_type": "code",
   "execution_count": 13,
   "metadata": {},
   "outputs": [
    {
     "name": "stdout",
     "output_type": "stream",
     "text": [
      "[[1 2 3 4 5 6 7 8 9]\n",
      " [2 3 4 5 6 7 8 9 1]\n",
      " [3 4 5 6 7 8 9 1 2]\n",
      " [4 5 6 7 8 9 1 2 3]\n",
      " [5 6 7 8 9 1 2 3 4]\n",
      " [6 7 8 9 1 2 3 4 5]\n",
      " [7 8 9 1 2 3 4 5 6]\n",
      " [8 9 1 2 3 4 5 6 7]\n",
      " [9 1 2 3 4 5 6 7 8]]\n"
     ]
    }
   ],
   "source": [
    "# Printing my sudoku seed. From it, the sudoku generator makes all sudokus I need (and the non-sudoku generator\n",
    "# makes all the non-sudokus I need as well)\n",
    "\n",
    "list_seed = []\n",
    "\n",
    "for i in range(1,10):\n",
    "    row_list = []\n",
    "    for j in range(9):\n",
    "        if i+j <= 9:\n",
    "            row_list.append(j+i)\n",
    "        else:\n",
    "            row_list.append((i+j) % 9)\n",
    "    list_seed.append(row_list)    \n",
    "\n",
    "new_seed = np.array(list_seed)\n",
    "print(new_seed)        "
   ]
  },
  {
   "cell_type": "code",
   "execution_count": 14,
   "metadata": {},
   "outputs": [
    {
     "data": {
      "text/plain": [
       "array([[9, 2, 3, 4, 5, 6, 7, 8, 1],\n",
       "       [1, 3, 4, 5, 6, 7, 8, 9, 2],\n",
       "       [2, 4, 5, 6, 7, 8, 9, 1, 3],\n",
       "       [3, 5, 6, 7, 8, 9, 1, 2, 4],\n",
       "       [4, 6, 7, 8, 9, 1, 2, 3, 5],\n",
       "       [5, 7, 8, 9, 1, 2, 3, 4, 6],\n",
       "       [6, 8, 9, 1, 2, 3, 4, 5, 7],\n",
       "       [7, 9, 1, 2, 3, 4, 5, 6, 8],\n",
       "       [8, 1, 2, 3, 4, 5, 6, 7, 9]])"
      ]
     },
     "execution_count": 14,
     "metadata": {},
     "output_type": "execute_result"
    }
   ],
   "source": [
    "# Swapping two columns to check the result is what I want\n",
    "\n",
    "swap_column(new_seed, 0, 8)\n",
    "\n",
    "new_seed"
   ]
  },
  {
   "cell_type": "code",
   "execution_count": 15,
   "metadata": {},
   "outputs": [
    {
     "data": {
      "text/plain": [
       "array([[2., 0., 1.],\n",
       "       [1., 0., 2.],\n",
       "       [0., 3., 0.]])"
      ]
     },
     "execution_count": 15,
     "metadata": {},
     "output_type": "execute_result"
    }
   ],
   "source": [
    "# Checking how many 3's there are in each inner square\n",
    "\n",
    "inner_numb(new_seed, 3)"
   ]
  },
  {
   "cell_type": "code",
   "execution_count": 16,
   "metadata": {},
   "outputs": [
    {
     "data": {
      "text/plain": [
       "array([[9, 2, 3, 4, 5, 6, 7, 8, 1],\n",
       "       [1, 3, 4, 5, 6, 7, 8, 9, 2],\n",
       "       [2, 4, 5, 6, 7, 8, 9, 1, 3],\n",
       "       [3, 5, 6, 7, 8, 9, 1, 2, 4],\n",
       "       [4, 6, 7, 8, 9, 1, 2, 3, 5],\n",
       "       [5, 7, 8, 9, 1, 2, 3, 4, 6],\n",
       "       [6, 8, 9, 1, 2, 3, 4, 5, 7],\n",
       "       [7, 9, 1, 2, 3, 4, 5, 6, 8],\n",
       "       [8, 1, 2, 3, 4, 5, 6, 7, 9]])"
      ]
     },
     "execution_count": 16,
     "metadata": {},
     "output_type": "execute_result"
    }
   ],
   "source": [
    "new_seed"
   ]
  },
  {
   "cell_type": "code",
   "execution_count": 17,
   "metadata": {},
   "outputs": [
    {
     "name": "stdout",
     "output_type": "stream",
     "text": [
      "[[2 9 1 3 4 5 8 7 6]\n",
      " [5 3 4 6 7 8 2 1 9]\n",
      " [8 6 7 9 1 2 5 4 3]\n",
      " [4 2 3 5 6 7 1 9 8]\n",
      " [7 5 6 8 9 1 4 3 2]\n",
      " [1 8 9 2 3 4 7 6 5]\n",
      " [9 7 8 1 2 3 6 5 4]\n",
      " [6 4 5 7 8 9 3 2 1]\n",
      " [3 1 2 4 5 6 9 8 7]]\n"
     ]
    }
   ],
   "source": [
    "# Creating a random sudoku from my sudoku generator\n",
    "\n",
    "rand_sudo = sudoku_gen()\n",
    "\n",
    "print(rand_sudo)"
   ]
  },
  {
   "cell_type": "code",
   "execution_count": 18,
   "metadata": {},
   "outputs": [
    {
     "name": "stdout",
     "output_type": "stream",
     "text": [
      "It is a sudoku!\n"
     ]
    }
   ],
   "source": [
    "# Is it a sudoku?\n",
    "\n",
    "sudo_or_not(rand_sudo)"
   ]
  },
  {
   "cell_type": "markdown",
   "metadata": {},
   "source": [
    "Creating 20.000 sudokus and non-sudokus with a 0.5 prob each in every step. It takes some hours for my computer, \n",
    "So I save the results in features and labels for loading them whenever I need. \n",
    "\n",
    "```python\n",
    "\n",
    "how_many = 20000\n",
    "\n",
    "features = np.zeros((how_many,81))\n",
    "labels   = np.zeros((how_many,))\n",
    "\n",
    "for i in range(how_many):\n",
    "    if np.random.randint(2) == 0:\n",
    "        features[i] = sudoku_gen().flatten()\n",
    "        labels[i]   = 1 #yes\n",
    "    else:\n",
    "        features[i] = rand_nosud_gen().flatten()\n",
    "        labels[i]   = 0 #no  \n",
    "\n",
    "np.save(\"features\",features)\n",
    "np.save(\"labels\",labels) \n",
    "\n",
    "```"
   ]
  },
  {
   "cell_type": "code",
   "execution_count": 19,
   "metadata": {},
   "outputs": [],
   "source": [
    "# Loading previously created features and labels\n",
    "\n",
    "features = np.load(\"features.npy\")\n",
    "labels = np.load(\"labels.npy\")"
   ]
  },
  {
   "cell_type": "code",
   "execution_count": 20,
   "metadata": {},
   "outputs": [
    {
     "data": {
      "text/plain": [
       "10002.0"
      ]
     },
     "execution_count": 20,
     "metadata": {},
     "output_type": "execute_result"
    }
   ],
   "source": [
    "# How many sudokus have I created?\n",
    "\n",
    "np.sum(labels)"
   ]
  },
  {
   "cell_type": "code",
   "execution_count": 21,
   "metadata": {},
   "outputs": [],
   "source": [
    "# Extracting all sudokus and non-sudokus created\n",
    "\n",
    "apparent_sudo = []\n",
    "\n",
    "apparent_no_sudo = []\n",
    "\n",
    "for i in range(20000):    \n",
    "    if labels[i]==1:\n",
    "        apparent_sudo.append(features[i].reshape(9,9))\n",
    "    else:\n",
    "        apparent_no_sudo.append(features[i].reshape(9,9))"
   ]
  },
  {
   "cell_type": "code",
   "execution_count": 22,
   "metadata": {},
   "outputs": [
    {
     "name": "stdout",
     "output_type": "stream",
     "text": [
      "Yeah!\n"
     ]
    }
   ],
   "source": [
    "# Checking if they are all really sudokus with my pre-made function\n",
    "\n",
    "check_sum = 0\n",
    "\n",
    "for element in apparent_sudo:    \n",
    "    check_sum += sudo_or_not_numeric(element)\n",
    "    \n",
    "if check_sum == np.sum(labels):\n",
    "    print(\"Yeah!\")"
   ]
  },
  {
   "cell_type": "code",
   "execution_count": 23,
   "metadata": {},
   "outputs": [
    {
     "name": "stdout",
     "output_type": "stream",
     "text": [
      "Yeah!\n"
     ]
    }
   ],
   "source": [
    "# Checking if the others are all really non-sudokus with my pre-made function\n",
    "\n",
    "check_sum = 0\n",
    "\n",
    "for element in apparent_no_sudo:\n",
    "    check_sum += sudo_or_not_numeric(element)\n",
    "    \n",
    "if check_sum == 0:\n",
    "    print(\"Yeah!\")"
   ]
  },
  {
   "cell_type": "code",
   "execution_count": 24,
   "metadata": {},
   "outputs": [
    {
     "name": "stdout",
     "output_type": "stream",
     "text": [
      "8 conflicting cases.\n"
     ]
    }
   ],
   "source": [
    "# How many sudokus that I have created are actually equal?\n",
    "\n",
    "equal_check(apparent_sudo) "
   ]
  },
  {
   "cell_type": "code",
   "execution_count": 25,
   "metadata": {},
   "outputs": [
    {
     "name": "stdout",
     "output_type": "stream",
     "text": [
      "no problem!\n"
     ]
    }
   ],
   "source": [
    "# How many sudokus that I have not created are actually equal?\n",
    "\n",
    "equal_check(apparent_no_sudo)"
   ]
  },
  {
   "cell_type": "code",
   "execution_count": 26,
   "metadata": {},
   "outputs": [
    {
     "name": "stdout",
     "output_type": "stream",
     "text": [
      "[[6. 5. 7. 9. 1. 8. 4. 2. 3.]\n",
      " [9. 8. 1. 3. 4. 2. 7. 5. 6.]\n",
      " [3. 2. 4. 6. 7. 5. 1. 8. 9.]\n",
      " [2. 1. 3. 5. 6. 4. 9. 7. 8.]\n",
      " [5. 4. 6. 8. 9. 7. 3. 1. 2.]\n",
      " [8. 7. 9. 2. 3. 1. 6. 4. 5.]\n",
      " [4. 3. 5. 7. 8. 6. 2. 9. 1.]\n",
      " [1. 9. 2. 4. 5. 3. 8. 6. 7.]\n",
      " [7. 6. 8. 1. 2. 9. 5. 3. 4.]]\n"
     ]
    }
   ],
   "source": [
    "# Printing a sudoku from my dataset\n",
    "\n",
    "print(apparent_sudo[0])"
   ]
  },
  {
   "cell_type": "code",
   "execution_count": 27,
   "metadata": {},
   "outputs": [
    {
     "name": "stdout",
     "output_type": "stream",
     "text": [
      "8 conflicting cases.\n",
      "Elements  365  and  10541  are equal.\n",
      "Elements  1376  and  2629  are equal.\n",
      "Elements  1470  and  14530  are equal.\n",
      "Elements  7982  and  10347  are equal.\n",
      "Elements  7993  and  19213  are equal.\n",
      "Elements  9247  and  19359  are equal.\n",
      "Elements  11090  and  18119  are equal.\n",
      "Elements  12185  and  19292  are equal.\n"
     ]
    }
   ],
   "source": [
    "# Here I eliminate all equal ocurrences inside my dataset\n",
    "\n",
    "destructing = equal_check(features, destructor = True) \n",
    "\n",
    "features = np.delete(features, destructing, 0)\n",
    "labels = np.delete(labels, destructing, 0)"
   ]
  },
  {
   "cell_type": "code",
   "execution_count": 28,
   "metadata": {},
   "outputs": [
    {
     "name": "stdout",
     "output_type": "stream",
     "text": [
      "no problem!\n"
     ]
    }
   ],
   "source": [
    "equal_check(features)"
   ]
  },
  {
   "cell_type": "markdown",
   "metadata": {},
   "source": [
    "## Machine Learning classifiers"
   ]
  },
  {
   "cell_type": "code",
   "execution_count": 29,
   "metadata": {},
   "outputs": [
    {
     "data": {
      "text/plain": [
       "DecisionTreeClassifier(class_weight=None, criterion='gini', max_depth=15,\n",
       "            max_features=None, max_leaf_nodes=None,\n",
       "            min_impurity_decrease=0.0, min_impurity_split=None,\n",
       "            min_samples_leaf=1, min_samples_split=2,\n",
       "            min_weight_fraction_leaf=0.0, presort=False, random_state=0,\n",
       "            splitter='best')"
      ]
     },
     "execution_count": 29,
     "metadata": {},
     "output_type": "execute_result"
    }
   ],
   "source": [
    "# Starting with Decision tree classifier. This and random forest seems natural as there is a deterministic algorithm\n",
    "# for distinguish a Sudoku, I think these algorithms should be able to do that quite straightforwardly\n",
    "\n",
    "from sklearn import tree\n",
    "from sklearn.model_selection import train_test_split\n",
    "from sklearn.model_selection import cross_val_score\n",
    "\n",
    "\n",
    "X_train, X_test, y_train, y_test = train_test_split(features, labels, test_size = 0.3, random_state = 0)\n",
    "\n",
    "clf = tree.DecisionTreeClassifier(random_state = 0, max_depth = 15)\n",
    "\n",
    "clf.fit(X=X_train, y=y_train)"
   ]
  },
  {
   "cell_type": "code",
   "execution_count": 30,
   "metadata": {},
   "outputs": [
    {
     "name": "stdout",
     "output_type": "stream",
     "text": [
      "The accuracy of the model is  0.8751250416805602 \n",
      "\n",
      "The confusion matrix is \n",
      "\n",
      " [[2545  464]\n",
      " [ 285 2704]] \n",
      "\n",
      "The precision is  0.8535353535353535 \n",
      "\n",
      "The sensitivity (recall) is  0.9046503847440616 \n",
      "\n",
      "And so, the F1 score is  0.8783498457040767  very similar to the accuracy, as we have more or less same number of sudokus and non-sudokus\n"
     ]
    }
   ],
   "source": [
    "# Printing some metrics of the model\n",
    "\n",
    "from sklearn.metrics import confusion_matrix\n",
    "\n",
    "y_pred = clf.predict(X_test)\n",
    "\n",
    "con_mat_clf = confusion_matrix(y_test, y_pred)\n",
    "\n",
    "print(\"The accuracy of the model is \", clf.score(X=X_test, y=y_test), \"\\n\")  \n",
    "\n",
    "print(\"The confusion matrix is \\n\\n\", con_mat_clf, \"\\n\")\n",
    "\n",
    "print(\"The precision is \", con_mat_clf[1,1]/(con_mat_clf[0,1]+con_mat_clf[1,1]), \"\\n\")\n",
    "\n",
    "print(\"The sensitivity (recall) is \", con_mat_clf[1,1]/(con_mat_clf[1,0]+con_mat_clf[1,1]), \"\\n\")\n",
    "\n",
    "print(\"And so, the F1 score is \", 2*con_mat_clf[1,1]/(2*con_mat_clf[1,1]+con_mat_clf[1,0]+con_mat_clf[0,1]), \" very similar to the accuracy, as we have more or less same number of sudokus and non-sudokus\")"
   ]
  },
  {
   "cell_type": "markdown",
   "metadata": {},
   "source": [
    "### Not such a bad accuracy for just one tree! But making more depth does not improve so much the accuracy... Lets see a random forest."
   ]
  },
  {
   "cell_type": "code",
   "execution_count": 31,
   "metadata": {},
   "outputs": [
    {
     "data": {
      "text/plain": [
       "RandomForestClassifier(bootstrap=True, class_weight=None, criterion='gini',\n",
       "            max_depth=None, max_features='auto', max_leaf_nodes=None,\n",
       "            min_impurity_decrease=0.0, min_impurity_split=None,\n",
       "            min_samples_leaf=1, min_samples_split=2,\n",
       "            min_weight_fraction_leaf=0.0, n_estimators=250, n_jobs=1,\n",
       "            oob_score=False, random_state=0, verbose=0, warm_start=False)"
      ]
     },
     "execution_count": 31,
     "metadata": {},
     "output_type": "execute_result"
    }
   ],
   "source": [
    "# Importing a random forest classifier\n",
    "\n",
    "from sklearn.ensemble import RandomForestClassifier\n",
    "\n",
    "forest_clf = RandomForestClassifier(n_estimators = 250, random_state = 0)\n",
    "forest_clf.fit(X_train, y_train)"
   ]
  },
  {
   "cell_type": "code",
   "execution_count": 32,
   "metadata": {},
   "outputs": [
    {
     "name": "stdout",
     "output_type": "stream",
     "text": [
      "The accuracy of the model is  1.0 \n",
      "\n",
      "The confusion matrix is \n",
      "\n",
      " [[3009    0]\n",
      " [   0 2989]] \n",
      "\n",
      "The precision is  1.0 \n",
      "\n",
      "The sensitivity (recall) is  1.0 \n",
      "\n",
      "And so, the F1 score is  1.0\n"
     ]
    }
   ],
   "source": [
    "# Lets see the metrics!\n",
    "\n",
    "y_pred_forest = forest_clf.predict(X_test)\n",
    "\n",
    "con_mat_forest = confusion_matrix(y_test, y_pred_forest)\n",
    "\n",
    "print(\"The accuracy of the model is \", forest_clf.score(X=X_test, y=y_test), \"\\n\")  \n",
    "\n",
    "print(\"The confusion matrix is \\n\\n\", con_mat_forest, \"\\n\")\n",
    "\n",
    "print(\"The precision is \", con_mat_forest[1,1]/(con_mat_forest[0,1]+con_mat_forest[1,1]), \"\\n\")\n",
    "\n",
    "print(\"The sensitivity (recall) is \", con_mat_forest[1,1]/(con_mat_forest[1,0]+con_mat_forest[1,1]), \"\\n\")\n",
    "\n",
    "print(\"And so, the F1 score is \", 2*con_mat_forest[1,1]/(2*con_mat_forest[1,1]+con_mat_forest[1,0]+con_mat_forest[0,1]))"
   ]
  },
  {
   "cell_type": "code",
   "execution_count": 33,
   "metadata": {},
   "outputs": [
    {
     "name": "stdout",
     "output_type": "stream",
     "text": [
      "The minimum of sudo-prob in the set of sudo is  0.524  \n",
      "The maximum of sudo-prob in the set of non-sudos is  0.5\n"
     ]
    }
   ],
   "source": [
    "# I want to know the maximum sudoku-probability in the set of non-sudokus from test, and the minimum of \n",
    "# sudoku-probabilities in the set of sudokus from test. The question is, is there clear gap?\n",
    "\n",
    "sudo_prob_forest = []\n",
    "\n",
    "no_sudo_prob_forest = []\n",
    "\n",
    "for i in range(len(X_test)):\n",
    "    if y_test[i] == 1:\n",
    "        sudo_prob_forest.append(forest_clf.predict_proba(X_test[i].reshape(1,81))[0,1])\n",
    "    else:\n",
    "        no_sudo_prob_forest.append(forest_clf.predict_proba(X_test[i].reshape(1,81))[0,1])\n",
    "        \n",
    "print(\"The minimum of sudo-prob in the set of sudo is \", np.min(sudo_prob_forest), \" \\nThe maximum of sudo-prob in the set of non-sudos is \", np.max(no_sudo_prob_forest))         "
   ]
  },
  {
   "cell_type": "markdown",
   "metadata": {},
   "source": [
    " Fantastic! So this monster can classify 100 % of the cases. But there are two main problems:\n",
    "\n",
    "1. It hasn't very clear the division of what is and what is not a sudoku.\n",
    "\n",
    "2. This model is really huge. Can we do something similar with a more compact (or reasonable) model? \n",
    "\n",
    "One thing that comes to my mind for solving both problems is:"
   ]
  },
  {
   "cell_type": "markdown",
   "metadata": {},
   "source": [
    "# Now lets see how good is a MLP neural model\n",
    "\n",
    "From my point of view, just one hidden layer with around 27 neurons will be able to make the trick. Why? Well, there is 9 rows, 9 columns and 9 inner-squares"
   ]
  },
  {
   "cell_type": "code",
   "execution_count": 34,
   "metadata": {},
   "outputs": [
    {
     "data": {
      "text/plain": [
       "MLPClassifier(activation='logistic', alpha=0.0001, batch_size='auto',\n",
       "       beta_1=0.9, beta_2=0.999, early_stopping=False, epsilon=1e-08,\n",
       "       hidden_layer_sizes=(27,), learning_rate='constant',\n",
       "       learning_rate_init=0.001, max_iter=400, momentum=0.9,\n",
       "       nesterovs_momentum=True, power_t=0.5, random_state=0, shuffle=True,\n",
       "       solver='adam', tol=1e-08, validation_fraction=0.1, verbose=False,\n",
       "       warm_start=False)"
      ]
     },
     "execution_count": 34,
     "metadata": {},
     "output_type": "execute_result"
    }
   ],
   "source": [
    "# As I just want one hidden layer, I think MLPClassifier from scikit-learn is good enough\n",
    "\n",
    "from sklearn.neural_network import MLPClassifier\n",
    "\n",
    "mlp = MLPClassifier(hidden_layer_sizes=(27,), tol=0.00000001, activation = 'logistic', max_iter = 400, random_state = 0) #27 makes so much sense for sudokus\n",
    "\n",
    "mlp.fit(X_train,y_train)"
   ]
  },
  {
   "cell_type": "code",
   "execution_count": 35,
   "metadata": {},
   "outputs": [
    {
     "name": "stdout",
     "output_type": "stream",
     "text": [
      "The accuracy of the model is  1.0 \n",
      "\n",
      "The confusion matrix is \n",
      "\n",
      " [[3009    0]\n",
      " [   0 2989]] \n",
      "\n",
      "The precision is  1.0 \n",
      "\n",
      "The sensitivity (recall) is  1.0 \n",
      "\n",
      "And so, the F1 score is  1.0\n"
     ]
    }
   ],
   "source": [
    "# Lets see the metrics!\n",
    "\n",
    "y_pred_mlp = mlp.predict(X_test)\n",
    "\n",
    "con_mat_mlp = confusion_matrix(y_test, y_pred_mlp)\n",
    "\n",
    "print(\"The accuracy of the model is \", mlp.score(X=X_test, y=y_test), \"\\n\")  \n",
    "\n",
    "print(\"The confusion matrix is \\n\\n\", con_mat_mlp, \"\\n\")\n",
    "\n",
    "print(\"The precision is \", con_mat_mlp[1,1]/(con_mat_mlp[0,1]+con_mat_mlp[1,1]), \"\\n\")\n",
    "\n",
    "print(\"The sensitivity (recall) is \", con_mat_mlp[1,1]/(con_mat_mlp[1,0]+con_mat_mlp[1,1]), \"\\n\")\n",
    "\n",
    "print(\"And so, the F1 score is \", 2*con_mat_mlp[1,1]/(2*con_mat_mlp[1,1]+con_mat_mlp[1,0]+con_mat_mlp[0,1]))"
   ]
  },
  {
   "cell_type": "markdown",
   "metadata": {},
   "source": [
    "# Awesome!"
   ]
  },
  {
   "cell_type": "code",
   "execution_count": 36,
   "metadata": {},
   "outputs": [
    {
     "name": "stdout",
     "output_type": "stream",
     "text": [
      "The minimum of sudo-prob in the set of sudo is  0.9997766935737521  \n",
      "The maximum of sudo-prob in the set of non-sudos is  0.3048344138661222\n"
     ]
    }
   ],
   "source": [
    "# I want to know the maximum sudoku-probability in the set of non-sudokus from test, and the minimum of \n",
    "# sudoku-probabilities in the set of sudokus from test. The question is, is there clear gap?\n",
    "\n",
    "sudo_prob_mlp = []\n",
    "\n",
    "no_sudo_prob_mlp = []\n",
    "\n",
    "for i in range(len(X_test)):\n",
    "    if y_test[i] == 1:\n",
    "        sudo_prob_mlp.append(mlp.predict_proba(X_test[i].reshape(1,81))[0,1])\n",
    "    else:\n",
    "        no_sudo_prob_mlp.append(mlp.predict_proba(X_test[i].reshape(1,81))[0,1])\n",
    "        \n",
    "print(\"The minimum of sudo-prob in the set of sudo is \", np.min(sudo_prob_mlp), \" \\nThe maximum of sudo-prob in the set of non-sudos is \", np.max(no_sudo_prob_mlp))         "
   ]
  },
  {
   "cell_type": "markdown",
   "metadata": {},
   "source": [
    "## So the gap is much bigger now! It is much more clear what is, and what is not, a sudoku."
   ]
  }
 ],
 "metadata": {
  "kernelspec": {
   "display_name": "Python 3",
   "language": "python",
   "name": "python3"
  },
  "language_info": {
   "codemirror_mode": {
    "name": "ipython",
    "version": 3
   },
   "file_extension": ".py",
   "mimetype": "text/x-python",
   "name": "python",
   "nbconvert_exporter": "python",
   "pygments_lexer": "ipython3",
   "version": "3.6.5"
  }
 },
 "nbformat": 4,
 "nbformat_minor": 2
}
